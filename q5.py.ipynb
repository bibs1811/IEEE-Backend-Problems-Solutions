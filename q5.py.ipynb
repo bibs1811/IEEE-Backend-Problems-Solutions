{
 "cells": [
  {
   "cell_type": "code",
   "execution_count": 4,
   "id": "dff6f2e7",
   "metadata": {},
   "outputs": [],
   "source": [
    "#subsets of a set\n",
    "class set_solution:\n",
    "    def subsets(self,nums):\n",
    "        new_set = [[]] #an empty set\n",
    "        \n",
    "        \n",
    "        for num in nums:\n",
    "            new_set += [ (i + [num]) for i in new_set] #going through each sunsets\n",
    "        return new_set"
   ]
  },
  {
   "cell_type": "code",
   "execution_count": 5,
   "id": "50100b3d",
   "metadata": {},
   "outputs": [
    {
     "name": "stdout",
     "output_type": "stream",
     "text": [
      "[[], [6], [9], [6, 9], [4], [6, 4], [9, 4], [6, 9, 4], [2], [6, 2], [9, 2], [6, 9, 2], [4, 2], [6, 4, 2], [9, 4, 2], [6, 9, 4, 2], [0], [6, 0], [9, 0], [6, 9, 0], [4, 0], [6, 4, 0], [9, 4, 0], [6, 9, 4, 0], [2, 0], [6, 2, 0], [9, 2, 0], [6, 9, 2, 0], [4, 2, 0], [6, 4, 2, 0], [9, 4, 2, 0], [6, 9, 4, 2, 0]]\n"
     ]
    }
   ],
   "source": [
    "print(set_solution().subsets([6,9,4,2,0]))"
   ]
  },
  {
   "cell_type": "code",
   "execution_count": null,
   "id": "5e72e9c9",
   "metadata": {},
   "outputs": [],
   "source": []
  }
 ],
 "metadata": {
  "kernelspec": {
   "display_name": "Python 3 (ipykernel)",
   "language": "python",
   "name": "python3"
  },
  "language_info": {
   "codemirror_mode": {
    "name": "ipython",
    "version": 3
   },
   "file_extension": ".py",
   "mimetype": "text/x-python",
   "name": "python",
   "nbconvert_exporter": "python",
   "pygments_lexer": "ipython3",
   "version": "3.9.13"
  }
 },
 "nbformat": 4,
 "nbformat_minor": 5
}
