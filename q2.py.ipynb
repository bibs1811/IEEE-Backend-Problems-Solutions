{
 "cells": [
  {
   "cell_type": "code",
   "execution_count": 9,
   "id": "da1e5351",
   "metadata": {},
   "outputs": [
    {
     "name": "stdout",
     "output_type": "stream",
     "text": [
      "*******\n",
      "     * \n",
      "    *  \n",
      "   *   \n",
      "  *    \n",
      " *     \n",
      "*******\n"
     ]
    }
   ],
   "source": [
    "#solution1 for pattern1\n",
    "print('*******')\n",
    "print('     * ')\n",
    "print('    *  ')\n",
    "print('   *   ')\n",
    "print('  *    ')\n",
    "print(' *     ')\n",
    "print('*******')\n"
   ]
  },
  {
   "cell_type": "code",
   "execution_count": 10,
   "id": "0ddc6f13",
   "metadata": {
    "scrolled": true
   },
   "outputs": [
    {
     "name": "stdout",
     "output_type": "stream",
     "text": [
      "*******\n",
      "      *\n",
      "     * \n",
      "    *  \n",
      "   *   \n",
      "  *    \n",
      "*******\n",
      "\n"
     ]
    }
   ],
   "source": [
    "#solution2 for pattern1\n",
    "def z_design(n):  #naming the function\n",
    "    z =\"\"   #defining the variable\n",
    "   \n",
    "    \n",
    "    for row in range(0,n):    #for loop for row\n",
    "        \n",
    "        \n",
    "        for column in range(0,n):     #for loop for column\n",
    "           \n",
    "        \n",
    "            if (((row == 0 or row == n-1) and column >= 0 and column <= n-1) or row+column==n):  #algo for z design\n",
    "                z +=\"*\"    \n",
    "            else:      \n",
    "                z +=\" \"    \n",
    "       \n",
    "        z+=\"\\n\"    \n",
    "    print(z)\n",
    "z_design(7) #calling back the function\n",
    "\n",
    "            \n",
    "\n",
    "            "
   ]
  },
  {
   "cell_type": "code",
   "execution_count": 8,
   "id": "1b3c0144",
   "metadata": {},
   "outputs": [
    {
     "name": "stdout",
     "output_type": "stream",
     "text": [
      "ABCDEFEDCBA\n",
      "ABCDE EDCBA\n",
      "ABCD   DCBA\n",
      "ABC     CBA\n",
      "AB       BA\n",
      "A         A\n",
      "ABC     CBA\n",
      "ABCD   DCBA\n",
      "ABCDE EDCBA\n",
      "ABCDEFEDCBA\n"
     ]
    }
   ],
   "source": [
    "#solution to the pattern 2\n",
    "print('ABCDEFEDCBA')\n",
    "print('ABCDE EDCBA')\n",
    "print('ABCD   DCBA')\n",
    "print('ABC     CBA')\n",
    "print('AB       BA')\n",
    "print('A         A')\n",
    "print('ABC     CBA')\n",
    "print('ABCD   DCBA')\n",
    "print('ABCDE EDCBA')\n",
    "print('ABCDEFEDCBA')"
   ]
  },
  {
   "cell_type": "code",
   "execution_count": null,
   "id": "ad367127",
   "metadata": {},
   "outputs": [],
   "source": []
  }
 ],
 "metadata": {
  "kernelspec": {
   "display_name": "Python 3 (ipykernel)",
   "language": "python",
   "name": "python3"
  },
  "language_info": {
   "codemirror_mode": {
    "name": "ipython",
    "version": 3
   },
   "file_extension": ".py",
   "mimetype": "text/x-python",
   "name": "python",
   "nbconvert_exporter": "python",
   "pygments_lexer": "ipython3",
   "version": "3.9.13"
  }
 },
 "nbformat": 4,
 "nbformat_minor": 5
}
