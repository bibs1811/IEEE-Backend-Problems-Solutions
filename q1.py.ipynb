{
 "cells": [
  {
   "cell_type": "code",
   "execution_count": 2,
   "id": "ec97a718",
   "metadata": {},
   "outputs": [
    {
     "name": "stdout",
     "output_type": "stream",
     "text": [
      "Enter the number of test cases: 1\n",
      "Enter the string: academic\n",
      "Enter the length of the string: 8\n",
      "No\n"
     ]
    }
   ],
   "source": [
    "count = 1 #this is to keep check the number_of _test_cases\n",
    "number_of_test_cases = input(\"Enter the number of test cases: \") \n",
    "\n",
    "\n",
    "while count<=int(number_of_test_cases):  #to make sure that until our test case is not completed we keep on repeating the task\n",
    "    string1 = input(\"Enter the string: \")\n",
    "\n",
    "    num = input(\"Enter the length of the string: \")\n",
    "    \n",
    "\n",
    "    num1 = int(num)\n",
    "\n",
    "    goodString = True #string check \n",
    "\n",
    "    for i in range(0,(num1//2)):\n",
    "        if(list(string1)[i]!=list(string1)[(num1//2)+i]):\n",
    "            goodString = False\n",
    "            break\n",
    "\n",
    "    if goodString==True :\n",
    "        print(\"Yes\")\n",
    "    else:\n",
    "        print(\"No\")\n",
    "\n",
    "    count = count+1\n"
   ]
  },
  {
   "cell_type": "code",
   "execution_count": null,
   "id": "761ed659",
   "metadata": {},
   "outputs": [],
   "source": []
  }
 ],
 "metadata": {
  "kernelspec": {
   "display_name": "Python 3 (ipykernel)",
   "language": "python",
   "name": "python3"
  },
  "language_info": {
   "codemirror_mode": {
    "name": "ipython",
    "version": 3
   },
   "file_extension": ".py",
   "mimetype": "text/x-python",
   "name": "python",
   "nbconvert_exporter": "python",
   "pygments_lexer": "ipython3",
   "version": "3.9.13"
  }
 },
 "nbformat": 4,
 "nbformat_minor": 5
}
