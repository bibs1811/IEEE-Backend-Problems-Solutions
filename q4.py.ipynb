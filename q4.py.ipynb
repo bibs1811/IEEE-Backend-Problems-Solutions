{
 "cells": [
  {
   "cell_type": "code",
   "execution_count": 5,
   "id": "f8f7702a",
   "metadata": {},
   "outputs": [
    {
     "name": "stdout",
     "output_type": "stream",
     "text": [
      "XXIX\n"
     ]
    }
   ],
   "source": [
    "#converting bin to num \n",
    "\n",
    "\n",
    "def bin_to_num(n):\n",
    "    y =  int(n)\n",
    "    return y\n",
    "#function for conversion of integer to roman number\n",
    "def int_to_roman(y):\n",
    "  \n",
    "    # Storing roman values for digits 0-9\n",
    "    m = [\"\", \"M\", \"MM\", \"MMM\" , \"MMMM\"]\n",
    "    c = [\"\", \"C\", \"CC\", \"CCC\", \"CD\", \"D \",\n",
    "         \"DC\", \"DCC\", \"DCCC\", \"CM \"]\n",
    "    x = [\"\", \"X\", \"XX\", \"XXX\", \"XL\", \"L\",\n",
    "         \"LX\", \"LXX\", \"LXXX\", \"XC\"]\n",
    "    i = [\"\", \"I\", \"II\", \"III\", \"IV\", \"V\",\n",
    "         \"VI\", \"VII\", \"VIII\", \"IX\"]\n",
    "  \n",
    "    # writing conversion for numerical to roman\n",
    "    thousands = m[y // 1000]\n",
    "    hundreds = c[(y % 1000) // 100]\n",
    "    tens = x[(y % 100) // 10]\n",
    "    ones = i[y % 10]\n",
    "  \n",
    "    result = (thousands + hundreds +\n",
    "           tens + ones)\n",
    "  \n",
    "    return result\n",
    "#connecting the functions\n",
    "n = 0b11101\n",
    "y = bin_to_num(n)\n",
    "print(int_to_roman(y))\n",
    "#we get the output"
   ]
  }
 ],
 "metadata": {
  "kernelspec": {
   "display_name": "Python 3 (ipykernel)",
   "language": "python",
   "name": "python3"
  },
  "language_info": {
   "codemirror_mode": {
    "name": "ipython",
    "version": 3
   },
   "file_extension": ".py",
   "mimetype": "text/x-python",
   "name": "python",
   "nbconvert_exporter": "python",
   "pygments_lexer": "ipython3",
   "version": "3.9.13"
  }
 },
 "nbformat": 4,
 "nbformat_minor": 5
}
