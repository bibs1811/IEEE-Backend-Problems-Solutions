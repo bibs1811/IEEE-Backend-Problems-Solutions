{
 "cells": [
  {
   "cell_type": "code",
   "execution_count": null,
   "id": "1b4a80f3",
   "metadata": {},
   "outputs": [],
   "source": [
    "dictionary = {}\n",
    "for i in range(4):\n",
    "    subject = str(input(\" key : \")) #taking user's input\n",
    "    marks = int(input(\"value : \"))\n",
    "    dictionary[fruits] = price\n",
    "print(dictionary)"
   ]
  },
  {
   "cell_type": "code",
   "execution_count": 2,
   "id": "a10cdbda",
   "metadata": {},
   "outputs": [
    {
     "data": {
      "text/plain": [
       "{'apple': 20, 'banana': 12, 'orange': 36, 'peaches': 23}"
      ]
     },
     "execution_count": 2,
     "metadata": {},
     "output_type": "execute_result"
    }
   ],
   "source": [
    "dictionary"
   ]
  },
  {
   "cell_type": "code",
   "execution_count": 3,
   "id": "5afc96c3",
   "metadata": {},
   "outputs": [
    {
     "data": {
      "text/plain": [
       "[('apple', 20), ('banana', 12), ('orange', 36), ('peaches', 23)]"
      ]
     },
     "execution_count": 3,
     "metadata": {},
     "output_type": "execute_result"
    }
   ],
   "source": [
    "sorted(dictionary.items())"
   ]
  },
  {
   "cell_type": "code",
   "execution_count": 4,
   "id": "00ef536c",
   "metadata": {},
   "outputs": [
    {
     "data": {
      "text/plain": [
       "[(36, 'orange'), (23, 'peaches'), (20, 'apple'), (12, 'banana')]"
      ]
     },
     "execution_count": 4,
     "metadata": {},
     "output_type": "execute_result"
    }
   ],
   "source": [
    "value_key_pairs = ((value, key) for (key,value) in dictionary.items())\n",
    "sorted_value_key_pairs = sorted(value_key_pairs, reverse=True)\n",
    "sorted_value_key_pairs"
   ]
  },
  {
   "cell_type": "code",
   "execution_count": 5,
   "id": "73c00ef4",
   "metadata": {},
   "outputs": [
    {
     "data": {
      "text/plain": [
       "{36: 'orange', 23: 'peaches', 20: 'apple', 12: 'banana'}"
      ]
     },
     "execution_count": 5,
     "metadata": {},
     "output_type": "execute_result"
    }
   ],
   "source": [
    " {k: v for k, v in sorted_value_key_pairs}"
   ]
  },
  {
   "cell_type": "code",
   "execution_count": 6,
   "id": "effdae6d",
   "metadata": {},
   "outputs": [],
   "source": [
    "new_dict = {k: v for k, v in sorted_value_key_pairs}"
   ]
  },
  {
   "cell_type": "code",
   "execution_count": 7,
   "id": "2e267ba0",
   "metadata": {},
   "outputs": [
    {
     "data": {
      "text/plain": [
       "[(12, 'banana'), (20, 'apple'), (23, 'peaches'), (36, 'orange')]"
      ]
     },
     "execution_count": 7,
     "metadata": {},
     "output_type": "execute_result"
    }
   ],
   "source": [
    "sorted(new_dict.items())"
   ]
  },
  {
   "cell_type": "code",
   "execution_count": 8,
   "id": "0423de76",
   "metadata": {},
   "outputs": [],
   "source": [
    "newlist = sorted(new_dict.items())"
   ]
  },
  {
   "cell_type": "code",
   "execution_count": 9,
   "id": "f79a9b57",
   "metadata": {},
   "outputs": [
    {
     "data": {
      "text/plain": [
       "{'banana': 12, 'apple': 20, 'peaches': 23, 'orange': 36}"
      ]
     },
     "execution_count": 9,
     "metadata": {},
     "output_type": "execute_result"
    }
   ],
   "source": [
    "{k: v for v, k in newlist}"
   ]
  },
  {
   "cell_type": "code",
   "execution_count": null,
   "id": "80afe638",
   "metadata": {},
   "outputs": [],
   "source": []
  }
 ],
 "metadata": {
  "kernelspec": {
   "display_name": "Python 3 (ipykernel)",
   "language": "python",
   "name": "python3"
  },
  "language_info": {
   "codemirror_mode": {
    "name": "ipython",
    "version": 3
   },
   "file_extension": ".py",
   "mimetype": "text/x-python",
   "name": "python",
   "nbconvert_exporter": "python",
   "pygments_lexer": "ipython3",
   "version": "3.9.13"
  }
 },
 "nbformat": 4,
 "nbformat_minor": 5
}
